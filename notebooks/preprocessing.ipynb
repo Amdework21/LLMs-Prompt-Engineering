{
 "cells": [
  {
   "cell_type": "code",
   "execution_count": 7,
   "metadata": {},
   "outputs": [],
   "source": [
    "import pandas as pd\n",
    "import seaborn as sns\n",
    "import matplotlib.pyplot as plt\n",
    "import numpy as np\n",
    "import re\n",
    "import warnings\n",
    "\n",
    "from data_describe.text.text_preprocessing import *\n",
    "from sklearn.datasets import fetch_20newsgroups\n",
    "\n",
    "warnings.simplefilter('ignore')"
   ]
  },
  {
   "cell_type": "code",
   "execution_count": 8,
   "metadata": {},
   "outputs": [],
   "source": [
    "import sys\n",
    "sys.path.append(\"../scripts/\")\n",
    "from data_cleaner import DataCleaner\n",
    "from util import Util\n",
    "from preprocessor import Processor"
   ]
  },
  {
   "cell_type": "code",
   "execution_count": 9,
   "metadata": {},
   "outputs": [
    {
     "name": "stderr",
     "output_type": "stream",
     "text": [
      "[nltk_data] Downloading package wordnet to\n",
      "[nltk_data]     C:\\Users\\Natnael\\AppData\\Roaming\\nltk_data...\n",
      "[nltk_data]   Package wordnet is already up-to-date!\n",
      "[nltk_data] Downloading package stopwords to\n",
      "[nltk_data]     C:\\Users\\Natnael\\AppData\\Roaming\\nltk_data...\n",
      "[nltk_data]   Package stopwords is already up-to-date!\n",
      "[nltk_data] Downloading package omw-1.4 to\n",
      "[nltk_data]     C:\\Users\\Natnael\\AppData\\Roaming\\nltk_data...\n",
      "[nltk_data]   Package omw-1.4 is already up-to-date!\n",
      "[nltk_data] Downloading package wordnet to\n",
      "[nltk_data]     C:\\Users\\Natnael\\AppData\\Roaming\\nltk_data...\n",
      "[nltk_data]   Package wordnet is already up-to-date!\n",
      "[nltk_data] Downloading package stopwords to\n",
      "[nltk_data]     C:\\Users\\Natnael\\AppData\\Roaming\\nltk_data...\n",
      "[nltk_data]   Package stopwords is already up-to-date!\n",
      "[nltk_data] Downloading package omw-1.4 to\n",
      "[nltk_data]     C:\\Users\\Natnael\\AppData\\Roaming\\nltk_data...\n",
      "[nltk_data]   Package omw-1.4 is already up-to-date!\n"
     ]
    }
   ],
   "source": [
    "util = Util()\n",
    "cleaner = DataCleaner()\n",
    "processor = Processor()"
   ]
  },
  {
   "cell_type": "markdown",
   "metadata": {},
   "source": [
    "# News"
   ]
  },
  {
   "cell_type": "code",
   "execution_count": 4,
   "metadata": {},
   "outputs": [],
   "source": [
    "repo=\"https://github.com/Nathnael12/prompt-engineering.git\"\n",
    "news_df=util.read_from_dvc(\"data/news.csv\",repo,\"news-v0\",low_memory=False)\n",
    "\n",
    "# cleaned_df=util.read_from_file('../data/news.csv')"
   ]
  },
  {
   "cell_type": "code",
   "execution_count": 5,
   "metadata": {},
   "outputs": [],
   "source": [
    "news_df=news_df.sample(frac=1)\n",
    "\n",
    "train_news=news_df.head(8)\n",
    "test_news=news_df.tail(2)"
   ]
  },
  {
   "cell_type": "code",
   "execution_count": 6,
   "metadata": {},
   "outputs": [],
   "source": [
    "full_processed_df=processor.prepare_text(train_news.copy())\n",
    "description_processed=processor.prepare_text(train_news.copy(),columns=[\"Description\"])[[\"Description\",\"Analyst_Average_Score\"]]\n",
    "title_processed=processor.prepare_text(train_news.copy(),columns=[\"Title\"])[[\"Title\",\"Analyst_Average_Score\"]]\n",
    "body_processed=processor.prepare_text(train_news.copy(),columns=[\"Body\"])[[\"Body\",\"Analyst_Average_Score\"]]\n",
    "unprocessed=train_news\n",
    "\n",
    "processed_test=processor.prepare_text(test_news)"
   ]
  },
  {
   "cell_type": "code",
   "execution_count": 8,
   "metadata": {},
   "outputs": [],
   "source": [
    "full_processed_df['Description']=full_processed_df['Title'] + \", \" + full_processed_df['Description'] + \", \" + full_processed_df[\"Body\"]\n",
    "full_processed_df.drop(['Domain','Title','Body','Link','timestamp','Analyst_Rank','Reference_Final_Score'],axis=1,inplace=True)\n",
    "\n",
    "title_processed.rename(columns={'Title':'Description'},inplace=True)\n",
    "\n",
    "body_processed.rename(columns={'Body':'Description'},inplace=True)\n",
    "\n",
    "unprocessed['Description']=unprocessed['Title'] + \", \" + unprocessed['Description'] + \", \" + unprocessed[\"Body\"]\n",
    "unprocessed.drop(['Domain','Title','Body','Link','timestamp','Analyst_Rank','Reference_Final_Score'],axis=1,inplace=True)\n",
    "\n",
    "processed_test['Description']=processed_test['Title'] + \", \" + processed_test['Description'] + \", \" + processed_test[\"Body\"]\n",
    "processed_test.drop(['Domain','Title','Body','Link','timestamp','Analyst_Rank','Reference_Final_Score'],axis=1,inplace=True)\n",
    "\n",
    "\n"
   ]
  },
  {
   "cell_type": "code",
   "execution_count": 11,
   "metadata": {},
   "outputs": [],
   "source": [
    "frames = [full_processed_df, description_processed, title_processed, body_processed, unprocessed]\n",
    "\n",
    "full_promp_trainer = pd.concat(frames)\n"
   ]
  },
  {
   "cell_type": "code",
   "execution_count": 15,
   "metadata": {},
   "outputs": [],
   "source": [
    "full_promp_trainer=full_promp_trainer.reset_index().drop(['index'],axis=1)"
   ]
  },
  {
   "cell_type": "code",
   "execution_count": 16,
   "metadata": {},
   "outputs": [
    {
     "data": {
      "text/html": [
       "<div>\n",
       "<style scoped>\n",
       "    .dataframe tbody tr th:only-of-type {\n",
       "        vertical-align: middle;\n",
       "    }\n",
       "\n",
       "    .dataframe tbody tr th {\n",
       "        vertical-align: top;\n",
       "    }\n",
       "\n",
       "    .dataframe thead th {\n",
       "        text-align: right;\n",
       "    }\n",
       "</style>\n",
       "<table border=\"1\" class=\"dataframe\">\n",
       "  <thead>\n",
       "    <tr style=\"text-align: right;\">\n",
       "      <th></th>\n",
       "      <th>Description</th>\n",
       "      <th>Analyst Average Score</th>\n",
       "    </tr>\n",
       "  </thead>\n",
       "  <tbody>\n",
       "    <tr>\n",
       "      <th>0</th>\n",
       "      <td>jet, thing, take, fund, johnson, taxpay, histo...</td>\n",
       "      <td>0.00</td>\n",
       "    </tr>\n",
       "    <tr>\n",
       "      <th>1</th>\n",
       "      <td>collaps, scoan, nigeria, 7th, anniversari, sab...</td>\n",
       "      <td>0.00</td>\n",
       "    </tr>\n",
       "    <tr>\n",
       "      <th>2</th>\n",
       "      <td>male, murder, arrest, femal, sap, 2021, 22, 13...</td>\n",
       "      <td>1.33</td>\n",
       "    </tr>\n",
       "    <tr>\n",
       "      <th>3</th>\n",
       "      <td>woman, eskom, tweet, news24, dismiss, punish, ...</td>\n",
       "      <td>0.33</td>\n",
       "    </tr>\n",
       "    <tr>\n",
       "      <th>4</th>\n",
       "      <td>construct, expect, repair, sector, loot, boost...</td>\n",
       "      <td>1.66</td>\n",
       "    </tr>\n",
       "  </tbody>\n",
       "</table>\n",
       "</div>"
      ],
      "text/plain": [
       "                                         Description  Analyst Average Score\n",
       "0  jet, thing, take, fund, johnson, taxpay, histo...                   0.00\n",
       "1  collaps, scoan, nigeria, 7th, anniversari, sab...                   0.00\n",
       "2  male, murder, arrest, femal, sap, 2021, 22, 13...                   1.33\n",
       "3  woman, eskom, tweet, news24, dismiss, punish, ...                   0.33\n",
       "4  construct, expect, repair, sector, loot, boost...                   1.66"
      ]
     },
     "execution_count": 16,
     "metadata": {},
     "output_type": "execute_result"
    }
   ],
   "source": [
    "# full_promp_trainer=full_promp_trainer[['Domain','Title','Description','Body','timestamp','Analyst_Average_Score']]\n",
    "full_promp_trainer.rename(columns={\"Analyst_Average_Score\":\"Analyst Average Score\"},inplace=True)\n",
    "# full_promp_trainer=cleaner.convert_to_datetime(full_promp_trainer,['timestamp'])\n",
    "# full_promp_trainer=full_promp_trainer.fillna('')\n",
    "full_promp_trainer.head()"
   ]
  },
  {
   "cell_type": "code",
   "execution_count": 17,
   "metadata": {},
   "outputs": [
    {
     "name": "stdout",
     "output_type": "stream",
     "text": [
      "tuner prepared successfuly\n"
     ]
    }
   ],
   "source": [
    "\n",
    "processor.prepare_tuner(full_promp_trainer)"
   ]
  },
  {
   "cell_type": "code",
   "execution_count": 18,
   "metadata": {},
   "outputs": [],
   "source": [
    "# uncomment these for first time use\n",
    "# full_processed_df.to_csv(\"../data/trainer_news.csv\",index=False)\n",
    "# processed_test.to_csv(\"../data/test_news.csv\",index=False)"
   ]
  },
  {
   "cell_type": "markdown",
   "metadata": {},
   "source": [
    "# Job"
   ]
  },
  {
   "cell_type": "code",
   "execution_count": 10,
   "metadata": {},
   "outputs": [],
   "source": [
    "job_df=pd.read_json(\"../data/job_description_train.json\")\n",
    "test_df=pd.read_json(\"../data/job_description_test.json\")"
   ]
  },
  {
   "cell_type": "code",
   "execution_count": 12,
   "metadata": {},
   "outputs": [
    {
     "data": {
      "text/html": [
       "<div>\n",
       "<style scoped>\n",
       "    .dataframe tbody tr th:only-of-type {\n",
       "        vertical-align: middle;\n",
       "    }\n",
       "\n",
       "    .dataframe tbody tr th {\n",
       "        vertical-align: top;\n",
       "    }\n",
       "\n",
       "    .dataframe thead th {\n",
       "        text-align: right;\n",
       "    }\n",
       "</style>\n",
       "<table border=\"1\" class=\"dataframe\">\n",
       "  <thead>\n",
       "    <tr style=\"text-align: right;\">\n",
       "      <th></th>\n",
       "      <th>document</th>\n",
       "      <th>tokens</th>\n",
       "      <th>relations</th>\n",
       "    </tr>\n",
       "  </thead>\n",
       "  <tbody>\n",
       "    <tr>\n",
       "      <th>0</th>\n",
       "      <td>Bachelor's degree in Mechanical Engineering or...</td>\n",
       "      <td>DIPLOMA: Bachelor;DIPLOMA_MAJOR: Mechanical En...</td>\n",
       "      <td>DEGREE_IN, EXPERIENCE_IN</td>\n",
       "    </tr>\n",
       "    <tr>\n",
       "      <th>1</th>\n",
       "      <td>10+ years of software engineering work experie...</td>\n",
       "      <td>EXPERIENCE: 10+ years, 5+ years;SKILLS: softwa...</td>\n",
       "      <td>EXPERIENCE_IN, DEGREE_IN</td>\n",
       "    </tr>\n",
       "    <tr>\n",
       "      <th>2</th>\n",
       "      <td>3+ years Swift &amp; Objective-C and experience wi...</td>\n",
       "      <td>EXPERIENCE: 3+ years;SKILLS: Swift &amp; Objective-C;</td>\n",
       "      <td>EXPERIENCE_IN</td>\n",
       "    </tr>\n",
       "    <tr>\n",
       "      <th>3</th>\n",
       "      <td>8+ years experience in software engineering le...</td>\n",
       "      <td>EXPERIENCE: 8+ years, 5+ years;SKILLS: softwar...</td>\n",
       "      <td>EXPERIENCE_IN</td>\n",
       "    </tr>\n",
       "    <tr>\n",
       "      <th>4</th>\n",
       "      <td>BS degree in Computer Science or related field...</td>\n",
       "      <td>DIPLOMA: BS;DIPLOMA_MAJOR: Computer Science;EX...</td>\n",
       "      <td>DEGREE_IN, EXPERIENCE_IN</td>\n",
       "    </tr>\n",
       "  </tbody>\n",
       "</table>\n",
       "</div>"
      ],
      "text/plain": [
       "                                            document  \\\n",
       "0  Bachelor's degree in Mechanical Engineering or...   \n",
       "1  10+ years of software engineering work experie...   \n",
       "2  3+ years Swift & Objective-C and experience wi...   \n",
       "3  8+ years experience in software engineering le...   \n",
       "4  BS degree in Computer Science or related field...   \n",
       "\n",
       "                                              tokens                 relations  \n",
       "0  DIPLOMA: Bachelor;DIPLOMA_MAJOR: Mechanical En...  DEGREE_IN, EXPERIENCE_IN  \n",
       "1  EXPERIENCE: 10+ years, 5+ years;SKILLS: softwa...  EXPERIENCE_IN, DEGREE_IN  \n",
       "2  EXPERIENCE: 3+ years;SKILLS: Swift & Objective-C;             EXPERIENCE_IN  \n",
       "3  EXPERIENCE: 8+ years, 5+ years;SKILLS: softwar...             EXPERIENCE_IN  \n",
       "4  DIPLOMA: BS;DIPLOMA_MAJOR: Computer Science;EX...  DEGREE_IN, EXPERIENCE_IN  "
      ]
     },
     "metadata": {},
     "output_type": "display_data"
    },
    {
     "data": {
      "text/html": [
       "<div>\n",
       "<style scoped>\n",
       "    .dataframe tbody tr th:only-of-type {\n",
       "        vertical-align: middle;\n",
       "    }\n",
       "\n",
       "    .dataframe tbody tr th {\n",
       "        vertical-align: top;\n",
       "    }\n",
       "\n",
       "    .dataframe thead th {\n",
       "        text-align: right;\n",
       "    }\n",
       "</style>\n",
       "<table border=\"1\" class=\"dataframe\">\n",
       "  <thead>\n",
       "    <tr style=\"text-align: right;\">\n",
       "      <th></th>\n",
       "      <th>document</th>\n",
       "      <th>tokens</th>\n",
       "      <th>relations</th>\n",
       "    </tr>\n",
       "  </thead>\n",
       "  <tbody>\n",
       "    <tr>\n",
       "      <th>0</th>\n",
       "      <td>\\nCurrently holding a faculty, industry, or go...</td>\n",
       "      <td>DIPLOMA: Ph.D.;DIPLOMA_MAJOR: machine learning...</td>\n",
       "      <td>DEGREE_IN, EXPERIENCE_IN</td>\n",
       "    </tr>\n",
       "    <tr>\n",
       "      <th>1</th>\n",
       "      <td>\\n2+ years experience in the online advertisin...</td>\n",
       "      <td>EXPERIENCE: 2+ years;SKILLS: online advertisin...</td>\n",
       "      <td>EXPERIENCE_IN, DEGREE_IN</td>\n",
       "    </tr>\n",
       "    <tr>\n",
       "      <th>2</th>\n",
       "      <td>\\nBA/BS\\n5+ years of program or project manage...</td>\n",
       "      <td>EXPERIENCE: 5+ years, 2+ years;SKILLS: project...</td>\n",
       "      <td>EXPERIENCE_IN</td>\n",
       "    </tr>\n",
       "    <tr>\n",
       "      <th>3</th>\n",
       "      <td>\\nCurrently enrolled in a full-time degree pro...</td>\n",
       "      <td>DIPLOMA: Ph.D.;DIPLOMA_MAJOR: Computer Science;</td>\n",
       "      <td>DEGREE_IN</td>\n",
       "    </tr>\n",
       "    <tr>\n",
       "      <th>4</th>\n",
       "      <td>\\nCurrently enrolled in a full-time degree pro...</td>\n",
       "      <td>DIPLOMA: Ph.D.;DIPLOMA_MAJOR: Computer Science;</td>\n",
       "      <td>DEGREE_IN</td>\n",
       "    </tr>\n",
       "  </tbody>\n",
       "</table>\n",
       "</div>"
      ],
      "text/plain": [
       "                                            document  \\\n",
       "0  \\nCurrently holding a faculty, industry, or go...   \n",
       "1  \\n2+ years experience in the online advertisin...   \n",
       "2  \\nBA/BS\\n5+ years of program or project manage...   \n",
       "3  \\nCurrently enrolled in a full-time degree pro...   \n",
       "4  \\nCurrently enrolled in a full-time degree pro...   \n",
       "\n",
       "                                              tokens                 relations  \n",
       "0  DIPLOMA: Ph.D.;DIPLOMA_MAJOR: machine learning...  DEGREE_IN, EXPERIENCE_IN  \n",
       "1  EXPERIENCE: 2+ years;SKILLS: online advertisin...  EXPERIENCE_IN, DEGREE_IN  \n",
       "2  EXPERIENCE: 5+ years, 2+ years;SKILLS: project...             EXPERIENCE_IN  \n",
       "3    DIPLOMA: Ph.D.;DIPLOMA_MAJOR: Computer Science;                 DEGREE_IN  \n",
       "4    DIPLOMA: Ph.D.;DIPLOMA_MAJOR: Computer Science;                 DEGREE_IN  "
      ]
     },
     "metadata": {},
     "output_type": "display_data"
    }
   ],
   "source": [
    "job_df_train=job_df.copy()\n",
    "job_df_test = test_df.copy()\n",
    "\n",
    "processed_description=processor.prepare_job_description_text(job_df_train)\n",
    "processed_test_description=processor.prepare_job_description_text(job_df_test)\n",
    "\n",
    "display(processed_description.head())\n",
    "display(processed_test_description.head())"
   ]
  },
  {
   "cell_type": "code",
   "execution_count": 13,
   "metadata": {},
   "outputs": [
    {
     "data": {
      "text/plain": [
       "(11, 3)"
      ]
     },
     "execution_count": 13,
     "metadata": {},
     "output_type": "execute_result"
    }
   ],
   "source": [
    "processed_test_description.shape"
   ]
  },
  {
   "cell_type": "code",
   "execution_count": 14,
   "metadata": {},
   "outputs": [
    {
     "data": {
      "text/plain": [
       "(22, 3)"
      ]
     },
     "execution_count": 14,
     "metadata": {},
     "output_type": "execute_result"
    }
   ],
   "source": [
    "processed_description.shape"
   ]
  },
  {
   "cell_type": "code",
   "execution_count": 16,
   "metadata": {},
   "outputs": [],
   "source": [
    "job_frames = [processed_description, processed_test_description.head(10)]\n",
    "\n",
    "job_tuner_df = pd.concat(job_frames)"
   ]
  },
  {
   "cell_type": "code",
   "execution_count": 23,
   "metadata": {},
   "outputs": [],
   "source": [
    "job_tuner_df=job_tuner_df.reset_index().drop([\"index\"],axis=1)"
   ]
  },
  {
   "cell_type": "code",
   "execution_count": 24,
   "metadata": {},
   "outputs": [
    {
     "name": "stdout",
     "output_type": "stream",
     "text": [
      "tuner prepared successfuly\n"
     ]
    }
   ],
   "source": [
    "processor.prepare_job_description_tuner(job_tuner_df)"
   ]
  },
  {
   "cell_type": "code",
   "execution_count": null,
   "metadata": {},
   "outputs": [],
   "source": []
  }
 ],
 "metadata": {
  "kernelspec": {
   "display_name": "Python 3.10.5 64-bit",
   "language": "python",
   "name": "python3"
  },
  "language_info": {
   "codemirror_mode": {
    "name": "ipython",
    "version": 3
   },
   "file_extension": ".py",
   "mimetype": "text/x-python",
   "name": "python",
   "nbconvert_exporter": "python",
   "pygments_lexer": "ipython3",
   "version": "3.10.5"
  },
  "orig_nbformat": 4,
  "vscode": {
   "interpreter": {
    "hash": "b1991c03751bb1ed07063b349673f109e299af7bd2e157024b7d7177e34b5cc3"
   }
  }
 },
 "nbformat": 4,
 "nbformat_minor": 2
}
