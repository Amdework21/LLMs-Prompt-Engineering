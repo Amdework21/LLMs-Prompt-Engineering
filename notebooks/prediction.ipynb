{
 "cells": [
  {
   "cell_type": "code",
   "execution_count": 1,
   "metadata": {},
   "outputs": [],
   "source": [
    "import pandas as pd\n",
    "import seaborn as sns\n",
    "import matplotlib.pyplot as plt\n",
    "import numpy as np\n",
    "import re\n",
    "import warnings\n",
    "warnings.simplefilter('ignore')"
   ]
  },
  {
   "cell_type": "code",
   "execution_count": 9,
   "metadata": {},
   "outputs": [],
   "source": [
    "import sys\n",
    "sys.path.append(\"../scripts/\")\n",
    "from data_cleaner import DataCleaner\n",
    "from util import Util\n",
    "from pridict import Predict\n",
    "from preprocessor import Processor"
   ]
  },
  {
   "cell_type": "code",
   "execution_count": 10,
   "metadata": {},
   "outputs": [
    {
     "name": "stderr",
     "output_type": "stream",
     "text": [
      "[nltk_data] Downloading package wordnet to\n",
      "[nltk_data]     C:\\Users\\amdea\\AppData\\Roaming\\nltk_data...\n",
      "[nltk_data]   Package wordnet is already up-to-date!\n",
      "[nltk_data] Downloading package stopwords to\n",
      "[nltk_data]     C:\\Users\\amdea\\AppData\\Roaming\\nltk_data...\n",
      "[nltk_data]   Package stopwords is already up-to-date!\n",
      "[nltk_data] Downloading package omw-1.4 to\n",
      "[nltk_data]     C:\\Users\\amdea\\AppData\\Roaming\\nltk_data...\n",
      "[nltk_data]   Package omw-1.4 is already up-to-date!\n",
      "[nltk_data] Downloading package wordnet to\n",
      "[nltk_data]     C:\\Users\\amdea\\AppData\\Roaming\\nltk_data...\n",
      "[nltk_data]   Package wordnet is already up-to-date!\n",
      "[nltk_data] Downloading package stopwords to\n",
      "[nltk_data]     C:\\Users\\amdea\\AppData\\Roaming\\nltk_data...\n",
      "[nltk_data]   Package stopwords is already up-to-date!\n",
      "[nltk_data] Downloading package omw-1.4 to\n",
      "[nltk_data]     C:\\Users\\amdea\\AppData\\Roaming\\nltk_data...\n",
      "[nltk_data]   Package omw-1.4 is already up-to-date!\n"
     ]
    }
   ],
   "source": [
    "util = Util()\n",
    "cleaner = DataCleaner()\n",
    "predictor = Predict()\n",
    "processor = Processor()"
   ]
  },
  {
   "cell_type": "markdown",
   "metadata": {},
   "source": [
    "### Website Example Dataset"
   ]
  },
  {
   "cell_type": "code",
   "execution_count": 15,
   "metadata": {},
   "outputs": [],
   "source": [
    "repo=\"https://github.com/Amdework21/LLMs-Prompt-Engineering.git\"\n",
    "test=util.read_from_dvc(\"data/test_news.csv.dvc\",repo,\"HEAD\",low_memory=False)\n",
    "train=util.read_from_dvc(\"data/trainer_news.csv.dvc\",repo,\"HEAD\",low_memory=False)\n",
    "\n",
    "# cleaned_df=util.read_from_file('../data/news.csv')"
   ]
  },
  {
   "cell_type": "markdown",
   "metadata": {},
   "source": [
    "### Cohere API Structure requirements are as follows\n",
    "\n",
    "**Task:   Score news relevance**\n",
    "\n",
    "* **Domain:**</u> *Domain*\n",
    "\n",
    "* **Title**: *Title*\n",
    "\n",
    "* **Description**:  *long text Description*\n",
    "\n",
    "* **Body**: *long text Body*\n",
    "\n",
    "* **Analyst_Average_Score** : *Analyst_Average_Score*"
   ]
  },
  {
   "cell_type": "code",
   "execution_count": 5,
   "metadata": {},
   "outputs": [],
   "source": []
  },
  {
   "cell_type": "code",
   "execution_count": 23,
   "metadata": {},
   "outputs": [
    {
     "name": "stdout",
     "output_type": "stream",
     "text": [
      "Prediction:    size:\n",
      "Prediction:    size:\n",
      "Prediction:    size:\n",
      "Prediction:    size:\n",
      "Prediction:    size:\n",
      "Correct Value:   path: test_news.csv\n"
     ]
    }
   ],
   "source": [
    "unique_test=test.sample()\n",
    "unique_train=train.sample()\n",
    "\n",
    "# predictor.predict(unique_train,unique_test) # not fine-tuned\n",
    "# predictor.predict(unique_train,unique_test,model=\"40c82db3-2770-46b5-9aaa-104f147075f4-ft\") # news-tuner: first try\n",
    "# prompt=predictor.predict(unique_train,unique_test, model=\"40c82db3-2770-46b5-9aaa-104f147075f4-ft\" ) # tuner: second try\n",
    "# prompt=predictor.predict(unique_train,unique_test, model=\"acfdd84f-2b81-4ee2-92d5-22ca5ee8f4f0-ft\" ) # enhanced-tuner: third try\n",
    "# prompt=predictor.predict(unique_train,unique_test, model=\"e74ec85a-8e14-4913-83d5-02fe80ac7c4f-ft\" ) # tuner-all-in-one-column: final try\n",
    "\n",
    "predictor.predict(unique_train,unique_test) # not fine-tuned\n",
    "predictor.predict(unique_train,unique_test,model=\"large\") # news-tuner: first try\n",
    "prompt=predictor.predict(unique_train,unique_test, model=\"small\" ) # tuner: second try\n",
    "prompt=predictor.predict(unique_train,unique_test, model=\"medium\" ) # enhanced-tuner: third try\n",
    "prompt=predictor.predict(unique_train,unique_test, model=\"xlarge\" ) # tuner-all-in-one-column: final try\n",
    "\n",
    "print(f\"Correct Value: {unique_test.iloc[0,-1]}\")"
   ]
  },
  {
   "cell_type": "markdown",
   "metadata": {},
   "source": [
    "as we can see from the above results: our las fine tune performs well compared to the others <br>\n",
    "given example score is 1.33, given test score 0.0, predicted score 0.0"
   ]
  },
  {
   "cell_type": "code",
   "execution_count": 21,
   "metadata": {},
   "outputs": [
    {
     "name": "stdout",
     "output_type": "stream",
     "text": [
      "Task: Generate Analyst Average Score\n",
      "\n",
      "outs::   size: 26694\n",
      "\n",
      "-- --\n",
      "\n",
      "Task: Generate Analyst Average Score\n",
      "\n",
      "outs:: \n"
     ]
    }
   ],
   "source": [
    "print(prompt)"
   ]
  },
  {
   "cell_type": "markdown",
   "metadata": {},
   "source": [
    "# Jobs"
   ]
  },
  {
   "cell_type": "code",
   "execution_count": 4,
   "metadata": {},
   "outputs": [],
   "source": [
    "job_train_df=pd.read_json(\"../data/job_description_train.json\")\n",
    "job_test_df=pd.read_json(\"../data/job_description_test.json\")\n",
    "\n",
    "processed_job_train=job_train_df.copy()\n",
    "processed_job_test=job_test_df.copy()\n",
    "\n",
    "processed_job_test=processor.prepare_job_description_text(job_test_df)\n",
    "processed_job_train=processor.prepare_job_description_text(job_train_df)\n",
    "\n"
   ]
  },
  {
   "cell_type": "code",
   "execution_count": 12,
   "metadata": {},
   "outputs": [
    {
     "name": "stdout",
     "output_type": "stream",
     "text": [
      "Prediction: \n",
      "\n",
      "EXPERIENCE: 2+ years, BS/BA Degree\n",
      "\n",
      "SKILLS: online advertising, research\n",
      "\n",
      "\n",
      "You can read the whole documentation here. \n",
      "In addition, you can use different tokenizers (or language\n",
      "\n",
      "Prediction:  with 7+ years of experience in data science or quantitative research\n",
      "\n",
      "EXPERIENCE: 3+ years, 3+ years\n",
      "\n",
      "SKILLS: quantitative field, data science, quantitative research, programming, statistical software, lab-based research\n"
     ]
    }
   ],
   "source": [
    "trainer=processed_job_train.sample(2)\n",
    "test=processed_job_test.sample(1)\n",
    "\n",
    "prompt_job=predictor.extract_entities(trainer,test)\n",
    "print()\n",
    "prompt_job=predictor.extract_entities(trainer,test,'a724ac98-2abc-47b7-96b3-a77c3a5eb0f8-ft')"
   ]
  }
 ],
 "metadata": {
  "kernelspec": {
   "display_name": "Python 3 (ipykernel)",
   "language": "python",
   "name": "python3"
  },
  "language_info": {
   "codemirror_mode": {
    "name": "ipython",
    "version": 3
   },
   "file_extension": ".py",
   "mimetype": "text/x-python",
   "name": "python",
   "nbconvert_exporter": "python",
   "pygments_lexer": "ipython3",
   "version": "3.9.7"
  },
  "vscode": {
   "interpreter": {
    "hash": "b1991c03751bb1ed07063b349673f109e299af7bd2e157024b7d7177e34b5cc3"
   }
  }
 },
 "nbformat": 4,
 "nbformat_minor": 2
}
