{
 "cells": [
  {
   "cell_type": "markdown",
   "metadata": {},
   "source": [
    "#### IMPORT MODULES"
   ]
  },
  {
   "cell_type": "code",
   "execution_count": 1,
   "metadata": {},
   "outputs": [],
   "source": [
    "import sys, os\n",
    "sys.path.append(os.path.abspath(os.path.join('../scripts')))\n",
    "from read_write_util import ReadWriteUtil\n",
    "from data_cleaning_pipeline import DataCleaningPipeline"
   ]
  },
  {
   "cell_type": "code",
   "execution_count": 2,
   "metadata": {},
   "outputs": [
    {
     "name": "stderr",
     "output_type": "stream",
     "text": [
      "2022-09-13 19:24:26,701:logger:../data/job_description_train.json with version jdtrain_v1 Loaded\n"
     ]
    },
    {
     "data": {
      "text/plain": [
       "{'document': \"Bachelor's degree in Mechanical Engineering or Physical Science 3+ years track record of developing or specifying fiber optic cables and connector related products Knowledge of fiber optic component, cabling, and interconnect products, technologies, and standards Experience in statistical data analysis Experience with product life cycle management (PLM) process Experience providing solutions to problems and meeting deadlines Experience engaging stakeholders PREFERRED Advanced degree Experience using a software tool for statistical data analysis such as JMP Experience using Agile as product life-cycle management tool Data center or other mission critical development experience\",\n",
       " 'tokens': [{'text': 'Bachelor',\n",
       "   'start': 0,\n",
       "   'end': 8,\n",
       "   'token_start': 0,\n",
       "   'token_end': 0,\n",
       "   'entityLabel': 'DIPLOMA'},\n",
       "  {'text': 'Mechanical Engineering',\n",
       "   'start': 21,\n",
       "   'end': 43,\n",
       "   'token_start': 4,\n",
       "   'token_end': 5,\n",
       "   'entityLabel': 'DIPLOMA_MAJOR'},\n",
       "  {'text': 'Physical Science',\n",
       "   'start': 47,\n",
       "   'end': 63,\n",
       "   'token_start': 7,\n",
       "   'token_end': 8,\n",
       "   'entityLabel': 'DIPLOMA_MAJOR'},\n",
       "  {'text': '3+ years',\n",
       "   'start': 64,\n",
       "   'end': 72,\n",
       "   'token_start': 9,\n",
       "   'token_end': 11,\n",
       "   'entityLabel': 'EXPERIENCE'},\n",
       "  {'text': 'developing',\n",
       "   'start': 89,\n",
       "   'end': 99,\n",
       "   'token_start': 15,\n",
       "   'token_end': 15,\n",
       "   'entityLabel': 'SKILLS'},\n",
       "  {'text': 'fiber optic cables',\n",
       "   'start': 114,\n",
       "   'end': 132,\n",
       "   'token_start': 18,\n",
       "   'token_end': 20,\n",
       "   'entityLabel': 'SKILLS'},\n",
       "  {'text': 'connector related products',\n",
       "   'start': 137,\n",
       "   'end': 163,\n",
       "   'token_start': 22,\n",
       "   'token_end': 24,\n",
       "   'entityLabel': 'SKILLS'}],\n",
       " 'relations': [{'child': 4, 'head': 0, 'relationLabel': 'DEGREE_IN'},\n",
       "  {'child': 7, 'head': 0, 'relationLabel': 'DEGREE_IN'},\n",
       "  {'child': 15, 'head': 9, 'relationLabel': 'EXPERIENCE_IN'},\n",
       "  {'child': 18, 'head': 9, 'relationLabel': 'EXPERIENCE_IN'},\n",
       "  {'child': 22, 'head': 9, 'relationLabel': 'EXPERIENCE_IN'}]}"
      ]
     },
     "execution_count": 2,
     "metadata": {},
     "output_type": "execute_result"
    }
   ],
   "source": [
    "reader = ReadWriteUtil()\n",
    "data = reader.dvc_get_data('../data/job_description_train.json', 'jdtrain_v1')\n",
    "data[0]"
   ]
  },
  {
   "cell_type": "code",
   "execution_count": 3,
   "metadata": {},
   "outputs": [
    {
     "name": "stderr",
     "output_type": "stream",
     "text": [
      "2022-09-13 19:24:26,823:logger:../data/job_description_test.json with version jdtest_v1 Loaded\n"
     ]
    },
    {
     "data": {
      "text/plain": [
       "{'document': '\\nCurrently holding a faculty, industry, or government researcher position.\\nPh.D. and publications in machine learning, AI, computer science, statistics, applied mathematics, data science, or related technical fields.\\nExperience leading a team in solving analytical problems using quantitative approaches.\\nExperience manipulating and analyzing data from different sources.\\nExperience in theoretical and empirical research and for answering questions with research.\\nAbility to communicate research for public audiences of peers.\\nKnowledge in a programming language.\\nAbility to obtain and maintain work authorization in the country of employment in 2018.\\n\\nPREFERRED \\n1+ year(s) of work experience in a university, industry, or government lab(s), in a role with primary emphasis on AI research.\\nExperience driving original scholarship in collaboration with a team.\\nFirst-author publications at peer-reviewed AI conferences (e.g. NIPS, CVPR, ICML, ICLR, ICCV, and ACL).\\nExperience in developing and debugging in C/C++, Python, C# and/or Java.',\n",
       " 'tokens': [{'text': 'Ph.D.',\n",
       "   'start': 75,\n",
       "   'end': 80,\n",
       "   'token_start': 14,\n",
       "   'token_end': 14,\n",
       "   'entityLabel': 'DIPLOMA'},\n",
       "  {'text': 'machine learning',\n",
       "   'start': 101,\n",
       "   'end': 117,\n",
       "   'token_start': 18,\n",
       "   'token_end': 19,\n",
       "   'entityLabel': 'DIPLOMA_MAJOR'},\n",
       "  {'text': 'AI',\n",
       "   'start': 119,\n",
       "   'end': 121,\n",
       "   'token_start': 21,\n",
       "   'token_end': 21,\n",
       "   'entityLabel': 'DIPLOMA_MAJOR'},\n",
       "  {'text': 'computer science',\n",
       "   'start': 123,\n",
       "   'end': 139,\n",
       "   'token_start': 23,\n",
       "   'token_end': 24,\n",
       "   'entityLabel': 'DIPLOMA_MAJOR'},\n",
       "  {'text': 'statistics',\n",
       "   'start': 141,\n",
       "   'end': 151,\n",
       "   'token_start': 26,\n",
       "   'token_end': 26,\n",
       "   'entityLabel': 'DIPLOMA_MAJOR'},\n",
       "  {'text': 'applied mathematics',\n",
       "   'start': 153,\n",
       "   'end': 172,\n",
       "   'token_start': 28,\n",
       "   'token_end': 29,\n",
       "   'entityLabel': 'DIPLOMA_MAJOR'},\n",
       "  {'text': 'data science',\n",
       "   'start': 174,\n",
       "   'end': 186,\n",
       "   'token_start': 31,\n",
       "   'token_end': 32,\n",
       "   'entityLabel': 'DIPLOMA_MAJOR'},\n",
       "  {'text': '1+ year(s',\n",
       "   'start': 664,\n",
       "   'end': 673,\n",
       "   'token_start': 113,\n",
       "   'token_end': 115,\n",
       "   'entityLabel': 'EXPERIENCE'},\n",
       "  {'text': 'university',\n",
       "   'start': 699,\n",
       "   'end': 709,\n",
       "   'token_start': 122,\n",
       "   'token_end': 122,\n",
       "   'entityLabel': 'SKILLS'},\n",
       "  {'text': 'industry',\n",
       "   'start': 711,\n",
       "   'end': 719,\n",
       "   'token_start': 124,\n",
       "   'token_end': 124,\n",
       "   'entityLabel': 'SKILLS'},\n",
       "  {'text': 'government lab(s)',\n",
       "   'start': 724,\n",
       "   'end': 741,\n",
       "   'token_start': 127,\n",
       "   'token_end': 129,\n",
       "   'entityLabel': 'SKILLS'},\n",
       "  {'text': 'AI',\n",
       "   'start': 778,\n",
       "   'end': 780,\n",
       "   'token_start': 138,\n",
       "   'token_end': 138,\n",
       "   'entityLabel': 'SKILLS'}],\n",
       " 'relations': [{'child': 18, 'head': 14, 'relationLabel': 'DEGREE_IN'},\n",
       "  {'child': 21, 'head': 14, 'relationLabel': 'DEGREE_IN'},\n",
       "  {'child': 23, 'head': 14, 'relationLabel': 'DEGREE_IN'},\n",
       "  {'child': 26, 'head': 14, 'relationLabel': 'DEGREE_IN'},\n",
       "  {'child': 28, 'head': 14, 'relationLabel': 'DEGREE_IN'},\n",
       "  {'child': 31, 'head': 14, 'relationLabel': 'DEGREE_IN'},\n",
       "  {'child': 122, 'head': 113, 'relationLabel': 'EXPERIENCE_IN'},\n",
       "  {'child': 124, 'head': 113, 'relationLabel': 'EXPERIENCE_IN'},\n",
       "  {'child': 127, 'head': 113, 'relationLabel': 'EXPERIENCE_IN'},\n",
       "  {'child': 138, 'head': 113, 'relationLabel': 'EXPERIENCE_IN'}]}"
      ]
     },
     "execution_count": 3,
     "metadata": {},
     "output_type": "execute_result"
    }
   ],
   "source": [
    "test_data = reader.dvc_get_data('../data/job_description_test.json', 'jdtest_v1')\n",
    "test_data[0]"
   ]
  },
  {
   "cell_type": "markdown",
   "metadata": {},
   "source": [
    "#### Clean Train JSON"
   ]
  },
  {
   "cell_type": "code",
   "execution_count": 4,
   "metadata": {},
   "outputs": [],
   "source": [
    "clean_pipeline = DataCleaningPipeline()\n",
    "#Initialize our cleaning pipeline"
   ]
  },
  {
   "cell_type": "markdown",
   "metadata": {},
   "source": [
    "#### Check for irrelevant key:value pairs"
   ]
  },
  {
   "cell_type": "code",
   "execution_count": 5,
   "metadata": {},
   "outputs": [
    {
     "data": {
      "text/plain": [
       "[{'text': 'Bachelor',\n",
       "  'start': 0,\n",
       "  'end': 8,\n",
       "  'token_start': 0,\n",
       "  'token_end': 0,\n",
       "  'entityLabel': 'DIPLOMA'},\n",
       " {'text': 'Mechanical Engineering',\n",
       "  'start': 21,\n",
       "  'end': 43,\n",
       "  'token_start': 4,\n",
       "  'token_end': 5,\n",
       "  'entityLabel': 'DIPLOMA_MAJOR'}]"
      ]
     },
     "execution_count": 5,
     "metadata": {},
     "output_type": "execute_result"
    }
   ],
   "source": [
    "data[0]['tokens'][:2]\n",
    "#As we can see the key:value pairs:\n",
    "    # 'start': 0,\n",
    "    # 'end': 8,\n",
    "    # 'token_start': 0,\n",
    "    # 'token_end': 0,\n",
    "# are irrelevant for our use case, we only focus on the key:value pairs:\n",
    "    # 'text': 'Bachelor',\n",
    "    # 'entityLabel': 'DIPLOMA'\n",
    "# So in our cleaning pipline we will create a function to remove the above irrelevant key:value pairs"
   ]
  },
  {
   "cell_type": "code",
   "execution_count": 6,
   "metadata": {},
   "outputs": [
    {
     "data": {
      "text/plain": [
       "[{'child': 4, 'head': 0, 'relationLabel': 'DEGREE_IN'},\n",
       " {'child': 7, 'head': 0, 'relationLabel': 'DEGREE_IN'},\n",
       " {'child': 15, 'head': 9, 'relationLabel': 'EXPERIENCE_IN'},\n",
       " {'child': 18, 'head': 9, 'relationLabel': 'EXPERIENCE_IN'},\n",
       " {'child': 22, 'head': 9, 'relationLabel': 'EXPERIENCE_IN'}]"
      ]
     },
     "execution_count": 6,
     "metadata": {},
     "output_type": "execute_result"
    }
   ],
   "source": [
    "data[0]['relations']\n",
    "#It seems we have another irrelevant key:value pair in our job description data\n",
    "# We will remove it using the function we create to remove the irrelevant columns"
   ]
  },
  {
   "cell_type": "code",
   "execution_count": 7,
   "metadata": {},
   "outputs": [
    {
     "name": "stderr",
     "output_type": "stream",
     "text": [
      "2022-09-13 19:24:29,003:logger:Cleaned Irrelevant key:value pairs in tokens.\n"
     ]
    },
    {
     "data": {
      "text/plain": [
       "{'document': \"Bachelor's degree in Mechanical Engineering or Physical Science 3+ years track record of developing or specifying fiber optic cables and connector related products Knowledge of fiber optic component, cabling, and interconnect products, technologies, and standards Experience in statistical data analysis Experience with product life cycle management (PLM) process Experience providing solutions to problems and meeting deadlines Experience engaging stakeholders PREFERRED Advanced degree Experience using a software tool for statistical data analysis such as JMP Experience using Agile as product life-cycle management tool Data center or other mission critical development experience\",\n",
       " 'tokens': [{'text': 'Bachelor', 'entityLabel': 'DIPLOMA'},\n",
       "  {'text': 'Mechanical Engineering', 'entityLabel': 'DIPLOMA_MAJOR'},\n",
       "  {'text': 'Physical Science', 'entityLabel': 'DIPLOMA_MAJOR'},\n",
       "  {'text': '3+ years', 'entityLabel': 'EXPERIENCE'},\n",
       "  {'text': 'developing', 'entityLabel': 'SKILLS'},\n",
       "  {'text': 'fiber optic cables', 'entityLabel': 'SKILLS'},\n",
       "  {'text': 'connector related products', 'entityLabel': 'SKILLS'}]}"
      ]
     },
     "execution_count": 7,
     "metadata": {},
     "output_type": "execute_result"
    }
   ],
   "source": [
    "clean_pipeline.runpipeline(data, irrelevant_data_keys=['relations'], irrelevant_token_keys=['start', 'end', 'token_start', 'token_end'])\n",
    "data[0]\n",
    "#We pass our data to our pipeline in order to remove unwanted key:value pairs"
   ]
  },
  {
   "cell_type": "markdown",
   "metadata": {},
   "source": [
    "#### Save and version data accordingly"
   ]
  },
  {
   "cell_type": "code",
   "execution_count": 8,
   "metadata": {},
   "outputs": [],
   "source": [
    "import json\n",
    "\n",
    "with open(\"../data/job_description_train_cleaned.json\", 'w') as f:\n",
    "    f.write(json.dumps(data, indent=2))"
   ]
  },
  {
   "cell_type": "markdown",
   "metadata": {},
   "source": [
    "#### Verify versioned data"
   ]
  },
  {
   "cell_type": "code",
   "execution_count": 9,
   "metadata": {},
   "outputs": [
    {
     "name": "stderr",
     "output_type": "stream",
     "text": [
      "2022-09-13 19:31:33,902:logger:../data/job_description_train_cleaned.json with version jdtrain_v1_cleaned Loaded\n"
     ]
    },
    {
     "data": {
      "text/plain": [
       "{'document': \"Bachelor's degree in Mechanical Engineering or Physical Science 3+ years track record of developing or specifying fiber optic cables and connector related products Knowledge of fiber optic component, cabling, and interconnect products, technologies, and standards Experience in statistical data analysis Experience with product life cycle management (PLM) process Experience providing solutions to problems and meeting deadlines Experience engaging stakeholders PREFERRED Advanced degree Experience using a software tool for statistical data analysis such as JMP Experience using Agile as product life-cycle management tool Data center or other mission critical development experience\",\n",
       " 'tokens': [{'text': 'Bachelor', 'entityLabel': 'DIPLOMA'},\n",
       "  {'text': 'Mechanical Engineering', 'entityLabel': 'DIPLOMA_MAJOR'},\n",
       "  {'text': 'Physical Science', 'entityLabel': 'DIPLOMA_MAJOR'},\n",
       "  {'text': '3+ years', 'entityLabel': 'EXPERIENCE'},\n",
       "  {'text': 'developing', 'entityLabel': 'SKILLS'},\n",
       "  {'text': 'fiber optic cables', 'entityLabel': 'SKILLS'},\n",
       "  {'text': 'connector related products', 'entityLabel': 'SKILLS'}]}"
      ]
     },
     "execution_count": 9,
     "metadata": {},
     "output_type": "execute_result"
    }
   ],
   "source": [
    "cleaned_data = reader.dvc_get_data('../data/job_description_train_cleaned.json', 'jdtrain_v1_cleaned')\n",
    "cleaned_data[0]"
   ]
  },
  {
   "cell_type": "markdown",
   "metadata": {},
   "source": [
    "#### Clean and Version Test File"
   ]
  },
  {
   "cell_type": "code",
   "execution_count": 10,
   "metadata": {},
   "outputs": [
    {
     "name": "stderr",
     "output_type": "stream",
     "text": [
      "2022-09-13 19:34:36,807:logger:Cleaned Irrelevant key:value pairs in tokens.\n"
     ]
    },
    {
     "data": {
      "text/plain": [
       "{'document': '\\nCurrently holding a faculty, industry, or government researcher position.\\nPh.D. and publications in machine learning, AI, computer science, statistics, applied mathematics, data science, or related technical fields.\\nExperience leading a team in solving analytical problems using quantitative approaches.\\nExperience manipulating and analyzing data from different sources.\\nExperience in theoretical and empirical research and for answering questions with research.\\nAbility to communicate research for public audiences of peers.\\nKnowledge in a programming language.\\nAbility to obtain and maintain work authorization in the country of employment in 2018.\\n\\nPREFERRED \\n1+ year(s) of work experience in a university, industry, or government lab(s), in a role with primary emphasis on AI research.\\nExperience driving original scholarship in collaboration with a team.\\nFirst-author publications at peer-reviewed AI conferences (e.g. NIPS, CVPR, ICML, ICLR, ICCV, and ACL).\\nExperience in developing and debugging in C/C++, Python, C# and/or Java.',\n",
       " 'tokens': [{'text': 'Ph.D.', 'entityLabel': 'DIPLOMA'},\n",
       "  {'text': 'machine learning', 'entityLabel': 'DIPLOMA_MAJOR'},\n",
       "  {'text': 'AI', 'entityLabel': 'DIPLOMA_MAJOR'},\n",
       "  {'text': 'computer science', 'entityLabel': 'DIPLOMA_MAJOR'},\n",
       "  {'text': 'statistics', 'entityLabel': 'DIPLOMA_MAJOR'},\n",
       "  {'text': 'applied mathematics', 'entityLabel': 'DIPLOMA_MAJOR'},\n",
       "  {'text': 'data science', 'entityLabel': 'DIPLOMA_MAJOR'},\n",
       "  {'text': '1+ year(s', 'entityLabel': 'EXPERIENCE'},\n",
       "  {'text': 'university', 'entityLabel': 'SKILLS'},\n",
       "  {'text': 'industry', 'entityLabel': 'SKILLS'},\n",
       "  {'text': 'government lab(s)', 'entityLabel': 'SKILLS'},\n",
       "  {'text': 'AI', 'entityLabel': 'SKILLS'}]}"
      ]
     },
     "execution_count": 10,
     "metadata": {},
     "output_type": "execute_result"
    }
   ],
   "source": [
    "clean_pipeline.runpipeline(test_data, irrelevant_data_keys=['relations'], irrelevant_token_keys=['start', 'end', 'token_start', 'token_end'])\n",
    "test_data[0]\n",
    "#Apply the same pipeline to our test json"
   ]
  },
  {
   "cell_type": "markdown",
   "metadata": {},
   "source": [
    "#### Save and version data accordingly"
   ]
  },
  {
   "cell_type": "code",
   "execution_count": 11,
   "metadata": {},
   "outputs": [],
   "source": [
    "with open(\"../data/job_description_test_cleaned.json\", 'w') as f:\n",
    "    f.write(json.dumps(test_data, indent=2))"
   ]
  },
  {
   "cell_type": "code",
   "execution_count": 12,
   "metadata": {},
   "outputs": [
    {
     "name": "stderr",
     "output_type": "stream",
     "text": [
      "2022-09-13 19:37:39,908:logger:../data/job_description_test_cleaned.json with version jdtest_v1_cleaned Loaded\n"
     ]
    },
    {
     "data": {
      "text/plain": [
       "{'document': '\\nCurrently holding a faculty, industry, or government researcher position.\\nPh.D. and publications in machine learning, AI, computer science, statistics, applied mathematics, data science, or related technical fields.\\nExperience leading a team in solving analytical problems using quantitative approaches.\\nExperience manipulating and analyzing data from different sources.\\nExperience in theoretical and empirical research and for answering questions with research.\\nAbility to communicate research for public audiences of peers.\\nKnowledge in a programming language.\\nAbility to obtain and maintain work authorization in the country of employment in 2018.\\n\\nPREFERRED \\n1+ year(s) of work experience in a university, industry, or government lab(s), in a role with primary emphasis on AI research.\\nExperience driving original scholarship in collaboration with a team.\\nFirst-author publications at peer-reviewed AI conferences (e.g. NIPS, CVPR, ICML, ICLR, ICCV, and ACL).\\nExperience in developing and debugging in C/C++, Python, C# and/or Java.',\n",
       " 'tokens': [{'text': 'Ph.D.', 'entityLabel': 'DIPLOMA'},\n",
       "  {'text': 'machine learning', 'entityLabel': 'DIPLOMA_MAJOR'},\n",
       "  {'text': 'AI', 'entityLabel': 'DIPLOMA_MAJOR'},\n",
       "  {'text': 'computer science', 'entityLabel': 'DIPLOMA_MAJOR'},\n",
       "  {'text': 'statistics', 'entityLabel': 'DIPLOMA_MAJOR'},\n",
       "  {'text': 'applied mathematics', 'entityLabel': 'DIPLOMA_MAJOR'},\n",
       "  {'text': 'data science', 'entityLabel': 'DIPLOMA_MAJOR'},\n",
       "  {'text': '1+ year(s', 'entityLabel': 'EXPERIENCE'},\n",
       "  {'text': 'university', 'entityLabel': 'SKILLS'},\n",
       "  {'text': 'industry', 'entityLabel': 'SKILLS'},\n",
       "  {'text': 'government lab(s)', 'entityLabel': 'SKILLS'},\n",
       "  {'text': 'AI', 'entityLabel': 'SKILLS'}]}"
      ]
     },
     "execution_count": 12,
     "metadata": {},
     "output_type": "execute_result"
    }
   ],
   "source": [
    "cleaned_test_data = reader.dvc_get_data('../data/job_description_test_cleaned.json', 'jdtest_v1_cleaned')\n",
    "cleaned_test_data[0]"
   ]
  },
  {
   "cell_type": "code",
   "execution_count": null,
   "metadata": {},
   "outputs": [],
   "source": []
  }
 ],
 "metadata": {
  "kernelspec": {
   "display_name": "Python 3 (ipykernel)",
   "language": "python",
   "name": "python3"
  },
  "language_info": {
   "codemirror_mode": {
    "name": "ipython",
    "version": 3
   },
   "file_extension": ".py",
   "mimetype": "text/x-python",
   "name": "python",
   "nbconvert_exporter": "python",
   "pygments_lexer": "ipython3",
   "version": "3.9.7"
  },
  "vscode": {
   "interpreter": {
    "hash": "d544f67e9aa83adbd02c37f60b9b691fd714bd2f11a4e3320930970c6f737269"
   }
  }
 },
 "nbformat": 4,
 "nbformat_minor": 2
}
